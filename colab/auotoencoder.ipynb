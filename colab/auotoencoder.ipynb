{
  "cells": [
    {
      "cell_type": "markdown",
      "metadata": {
        "id": "view-in-github",
        "colab_type": "text"
      },
      "source": [
        "<a href=\"https://colab.research.google.com/github/kartoone/nn3/blob/main/colab/auotoencoder.ipynb\" target=\"_parent\"><img src=\"https://colab.research.google.com/assets/colab-badge.svg\" alt=\"Open In Colab\"/></a>"
      ]
    },
    {
      "cell_type": "code",
      "execution_count": null,
      "id": "d2e60515-5ae1-4295-a607-caadfc5a4789",
      "metadata": {
        "colab": {
          "base_uri": "https://localhost:8080/"
        },
        "id": "d2e60515-5ae1-4295-a607-caadfc5a4789",
        "outputId": "b6d40830-630b-4e8b-9766-5aa5edc57c3c"
      },
      "outputs": [
        {
          "output_type": "stream",
          "name": "stdout",
          "text": [
            "Downloading data from https://storage.googleapis.com/tensorflow/tf-keras-datasets/mnist.npz\n",
            "11490434/11490434 [==============================] - 0s 0us/step\n",
            "Epoch 1/50\n",
            "235/235 [==============================] - 27s 94ms/step - loss: 0.2135\n",
            "Epoch 2/50\n",
            "235/235 [==============================] - 7s 28ms/step - loss: 0.1239\n",
            "Epoch 3/50\n",
            "235/235 [==============================] - 8s 34ms/step - loss: 0.1084\n",
            "Epoch 4/50\n",
            "235/235 [==============================] - 7s 28ms/step - loss: 0.1007\n",
            "Epoch 5/50\n",
            "235/235 [==============================] - 8s 33ms/step - loss: 0.0962\n",
            "Epoch 6/50\n",
            "235/235 [==============================] - 6s 28ms/step - loss: 0.0929\n",
            "Epoch 7/50\n",
            "235/235 [==============================] - 8s 32ms/step - loss: 0.0904\n",
            "Epoch 8/50\n",
            "235/235 [==============================] - 7s 30ms/step - loss: 0.0882\n",
            "Epoch 9/50\n",
            "235/235 [==============================] - 7s 31ms/step - loss: 0.0865\n",
            "Epoch 10/50\n",
            "235/235 [==============================] - 8s 32ms/step - loss: 0.0850\n",
            "Epoch 11/50\n",
            "235/235 [==============================] - 7s 28ms/step - loss: 0.0839\n",
            "Epoch 12/50\n",
            "235/235 [==============================] - 8s 33ms/step - loss: 0.0829\n",
            "Epoch 13/50\n",
            "235/235 [==============================] - 6s 27ms/step - loss: 0.0819\n",
            "Epoch 14/50\n",
            "235/235 [==============================] - 8s 33ms/step - loss: 0.0811\n",
            "Epoch 15/50\n",
            "235/235 [==============================] - 7s 30ms/step - loss: 0.0803\n",
            "Epoch 16/50\n",
            "235/235 [==============================] - 8s 33ms/step - loss: 0.0797\n",
            "Epoch 17/50\n",
            "235/235 [==============================] - 7s 28ms/step - loss: 0.0792\n",
            "Epoch 18/50\n",
            "235/235 [==============================] - 8s 33ms/step - loss: 0.0786\n",
            "Epoch 19/50\n",
            "235/235 [==============================] - 7s 30ms/step - loss: 0.0781\n",
            "Epoch 20/50\n",
            "235/235 [==============================] - 7s 31ms/step - loss: 0.0779\n",
            "Epoch 21/50\n",
            "235/235 [==============================] - 9s 37ms/step - loss: 0.0772\n",
            "Epoch 22/50\n",
            "235/235 [==============================] - 6s 28ms/step - loss: 0.0769\n",
            "Epoch 23/50\n",
            "235/235 [==============================] - 8s 32ms/step - loss: 0.0767\n",
            "Epoch 24/50\n",
            "235/235 [==============================] - 6s 27ms/step - loss: 0.0762\n",
            "Epoch 25/50\n",
            "235/235 [==============================] - 8s 32ms/step - loss: 0.0760\n",
            "Epoch 26/50\n",
            "235/235 [==============================] - 6s 27ms/step - loss: 0.0758\n",
            "Epoch 27/50\n",
            "235/235 [==============================] - 8s 33ms/step - loss: 0.0755\n",
            "Epoch 28/50\n",
            "235/235 [==============================] - 6s 28ms/step - loss: 0.0753\n",
            "Epoch 29/50\n",
            "235/235 [==============================] - 8s 33ms/step - loss: 0.0751\n",
            "Epoch 30/50\n",
            "235/235 [==============================] - 7s 29ms/step - loss: 0.0749\n",
            "Epoch 31/50\n",
            "235/235 [==============================] - 7s 31ms/step - loss: 0.0747\n",
            "Epoch 32/50\n",
            "235/235 [==============================] - 7s 32ms/step - loss: 0.0745\n",
            "Epoch 33/50\n",
            "235/235 [==============================] - 7s 28ms/step - loss: 0.0743\n",
            "Epoch 34/50\n",
            "235/235 [==============================] - 8s 32ms/step - loss: 0.0742\n",
            "Epoch 35/50\n",
            "235/235 [==============================] - 6s 27ms/step - loss: 0.0740\n",
            "Epoch 36/50\n",
            "235/235 [==============================] - 8s 32ms/step - loss: 0.0740\n",
            "Epoch 37/50\n",
            "235/235 [==============================] - 6s 27ms/step - loss: 0.0738\n",
            "Epoch 38/50\n",
            "235/235 [==============================] - 8s 32ms/step - loss: 0.0737\n",
            "Epoch 39/50\n",
            "235/235 [==============================] - 7s 28ms/step - loss: 0.0735\n",
            "Epoch 40/50\n",
            "235/235 [==============================] - 8s 32ms/step - loss: 0.0734\n",
            "Epoch 41/50\n",
            "235/235 [==============================] - 6s 27ms/step - loss: 0.0733\n",
            "Epoch 42/50\n",
            "235/235 [==============================] - 8s 32ms/step - loss: 0.0732\n",
            "Epoch 43/50\n",
            "235/235 [==============================] - 7s 28ms/step - loss: 0.0731\n",
            "Epoch 44/50\n",
            "235/235 [==============================] - 7s 31ms/step - loss: 0.0730\n",
            "Epoch 45/50\n",
            "235/235 [==============================] - 7s 29ms/step - loss: 0.0729\n",
            "Epoch 46/50\n",
            "235/235 [==============================] - 7s 30ms/step - loss: 0.0728\n",
            "Epoch 47/50\n",
            "235/235 [==============================] - 8s 33ms/step - loss: 0.0727\n",
            "Epoch 48/50\n",
            "235/235 [==============================] - 6s 27ms/step - loss: 0.0726\n",
            "Epoch 49/50\n",
            "235/235 [==============================] - 8s 33ms/step - loss: 0.0725\n",
            "Epoch 50/50\n",
            "235/235 [==============================] - 6s 27ms/step - loss: 0.0724\n",
            "313/313 [==============================] - 1s 3ms/step\n",
            "Indices of anomalies in the test data:  [  47   54   72  149  151  193  245  260  268  367  381  402  425  431\n",
            "  542  543  655  744  810  830  844  877  895 1014 1017 1028 1050 1070\n",
            " 1074 1124 1125 1147 1198 1248 1249 1259 1263 1325 1364 1391 1393 1395\n",
            " 1415 1438 1466 1526 1569 1610 1663 1682 1758 1772 1782 1813 1855 1856\n",
            " 1880 1941 1969 1982 2004 2009 2023 2044 2102 2118 2215 2222 2289 2291\n",
            " 2298 2329 2338 2436 2488 2597 2699 2793 2836 2850 2929 2970 3030 3069\n",
            " 3164 3239 3269 3295 3300 3373 3394 3396 3412 3416 3542 3559 3567 3583\n",
            " 3599 3604 3674 3708 3749 3751 3774 3778 3841 3846 3864 3893 3918 3932\n",
            " 3951 3996 4018 4048 4065 4086 4091 4096 4117 4140 4154 4176 4230 4343\n",
            " 4449 4548 4601 4657 4679 4713 4814 4826 4878 4888 4923 4950 5140 5165\n",
            " 5209 5449 5450 5593 5613 5661 5676 5832 5841 5878 5887 5913 5962 6041\n",
            " 6391 6403 6531 6555 6574 6580 6590 6614 6645 6693 6700 6765 6797 6835\n",
            " 7192 7213 7265 7266 7472 7603 8015 8112 8116 8157 8254 8272 8332 8339\n",
            " 8374 8408 8453 8553 8560 8561 8563 8570 8602 9316 9427 9596 9597 9619\n",
            " 9621 9624 9636 9662 9672 9673 9688 9691 9697 9719 9729 9742 9750 9751\n",
            " 9770 9798 9937 9954 9980]\n"
          ]
        }
      ],
      "source": [
        "# tensorflow ... must be run from the \"tensorflow\" optimized environment\n",
        "\n",
        "from keras.datasets import mnist\n",
        "from keras.layers import Input, Dense\n",
        "from keras.models import Model\n",
        "import numpy as np\n",
        "\n",
        "# Load the MNIST dataset\n",
        "(x_train, _), (x_test, _) = mnist.load_data()\n",
        "\n",
        "# Normalize and flatten the data\n",
        "x_train = x_train.astype('float32') / 255.\n",
        "x_test = x_test.astype('float32') / 255.\n",
        "x_train = x_train.reshape((len(x_train), np.prod(x_train.shape[1:])))\n",
        "x_test = x_test.reshape((len(x_test), np.prod(x_test.shape[1:])))\n",
        "\n",
        "# Define the input size\n",
        "input_size = 784  # for MNIST dataset, 28x28 images\n",
        "\n",
        "# Define the encoder\n",
        "input_img = Input(shape=(input_size,))\n",
        "encoded = Dense(256, activation='relu')(input_img)\n",
        "encoded = Dense(128, activation='relu')(encoded)\n",
        "encoded = Dense(64, activation='relu')(encoded)\n",
        "# The encoded representation is a lower-dimensional representation of the input data\n",
        "\n",
        "# Define the decoder\n",
        "decoded = Dense(128, activation='relu')(encoded)\n",
        "decoded = Dense(256, activation='relu')(decoded)\n",
        "decoded = Dense(input_size, activation='sigmoid')(decoded)\n",
        "# The decoded output should have the same size as the input data\n",
        "\n",
        "# Define the autoencoder as a whole\n",
        "autoencoder = Model(input_img, decoded)\n",
        "\n",
        "# Compile the autoencoder\n",
        "autoencoder.compile(optimizer='adam', loss='binary_crossentropy')\n",
        "\n",
        "# Train the autoencoder on the MNIST dataset\n",
        "autoencoder.fit(x_train, x_train, epochs=50, batch_size=256, shuffle=True)\n",
        "\n",
        "# Use the trained autoencoder for anomaly detection\n",
        "\n",
        "# Reconstruct the test data\n",
        "x_test_reconstructed = autoencoder.predict(x_test)\n",
        "\n",
        "# Compute the reconstruction error between the input data and the reconstructed data\n",
        "reconstruction_error = np.mean(np.square(x_test - x_test_reconstructed), axis=1)\n",
        "\n",
        "# Define a threshold for anomaly detection\n",
        "threshold = 0.01\n",
        "\n",
        "# Identify anomalies as data samples with reconstruction error above the threshold\n",
        "anomaly_indices = np.where(reconstruction_error > threshold)[0]\n",
        "\n",
        "# Print the indices of anomalies\n",
        "print(\"Indices of anomalies in the test data: \", anomaly_indices)\n"
      ]
    },
    {
      "cell_type": "code",
      "execution_count": null,
      "id": "03cda77f-e930-4b98-b245-ee6bc15f0ad9",
      "metadata": {
        "colab": {
          "base_uri": "https://localhost:8080/"
        },
        "id": "03cda77f-e930-4b98-b245-ee6bc15f0ad9",
        "outputId": "80f4c51b-23c3-4765-cbe0-849e7938e7b5"
      },
      "outputs": [
        {
          "output_type": "stream",
          "name": "stdout",
          "text": [
            "Downloading http://yann.lecun.com/exdb/mnist/train-images-idx3-ubyte.gz\n",
            "Downloading http://yann.lecun.com/exdb/mnist/train-images-idx3-ubyte.gz to ./data/MNIST/raw/train-images-idx3-ubyte.gz\n"
          ]
        },
        {
          "output_type": "stream",
          "name": "stderr",
          "text": [
            "100%|██████████| 9912422/9912422 [00:00<00:00, 81171012.13it/s]\n"
          ]
        },
        {
          "output_type": "stream",
          "name": "stdout",
          "text": [
            "Extracting ./data/MNIST/raw/train-images-idx3-ubyte.gz to ./data/MNIST/raw\n",
            "\n",
            "Downloading http://yann.lecun.com/exdb/mnist/train-labels-idx1-ubyte.gz\n",
            "Downloading http://yann.lecun.com/exdb/mnist/train-labels-idx1-ubyte.gz to ./data/MNIST/raw/train-labels-idx1-ubyte.gz\n"
          ]
        },
        {
          "output_type": "stream",
          "name": "stderr",
          "text": [
            "100%|██████████| 28881/28881 [00:00<00:00, 54565627.85it/s]\n"
          ]
        },
        {
          "output_type": "stream",
          "name": "stdout",
          "text": [
            "Extracting ./data/MNIST/raw/train-labels-idx1-ubyte.gz to ./data/MNIST/raw\n",
            "\n",
            "Downloading http://yann.lecun.com/exdb/mnist/t10k-images-idx3-ubyte.gz\n",
            "Downloading http://yann.lecun.com/exdb/mnist/t10k-images-idx3-ubyte.gz to ./data/MNIST/raw/t10k-images-idx3-ubyte.gz\n"
          ]
        },
        {
          "output_type": "stream",
          "name": "stderr",
          "text": [
            "100%|██████████| 1648877/1648877 [00:00<00:00, 20168828.80it/s]\n"
          ]
        },
        {
          "output_type": "stream",
          "name": "stdout",
          "text": [
            "Extracting ./data/MNIST/raw/t10k-images-idx3-ubyte.gz to ./data/MNIST/raw\n",
            "\n",
            "Downloading http://yann.lecun.com/exdb/mnist/t10k-labels-idx1-ubyte.gz\n",
            "Downloading http://yann.lecun.com/exdb/mnist/t10k-labels-idx1-ubyte.gz to ./data/MNIST/raw/t10k-labels-idx1-ubyte.gz\n"
          ]
        },
        {
          "output_type": "stream",
          "name": "stderr",
          "text": [
            "100%|██████████| 4542/4542 [00:00<00:00, 11921482.33it/s]\n"
          ]
        },
        {
          "output_type": "stream",
          "name": "stdout",
          "text": [
            "Extracting ./data/MNIST/raw/t10k-labels-idx1-ubyte.gz to ./data/MNIST/raw\n",
            "\n"
          ]
        }
      ],
      "source": [
        "# pytorch - must be run from pytorch optimized\n",
        "import torch\n",
        "import torch.nn as nn\n",
        "import torch.optim as optim\n",
        "import torchvision\n",
        "import torchvision.transforms as transforms\n",
        "import numpy as np\n",
        "\n",
        "# Define the autoencoder architecture\n",
        "class Autoencoder(nn.Module):\n",
        "    def __init__(self):\n",
        "        super(Autoencoder, self).__init__()\n",
        "        self.encoder = nn.Sequential(\n",
        "            nn.Linear(784, 256),\n",
        "            nn.ReLU(),\n",
        "            nn.Linear(256, 128),\n",
        "            nn.ReLU(),\n",
        "            nn.Linear(128, 64),\n",
        "            nn.ReLU()\n",
        "        )\n",
        "        self.decoder = nn.Sequential(\n",
        "            nn.Linear(64, 128),\n",
        "            nn.ReLU(),\n",
        "            nn.Linear(128, 256),\n",
        "            nn.ReLU(),\n",
        "            nn.Linear(256, 784),\n",
        "            nn.Sigmoid()\n",
        "        )\n",
        "\n",
        "    def forward(self, x):\n",
        "        encoded = self.encoder(x)\n",
        "        decoded = self.decoder(encoded)\n",
        "        return decoded\n",
        "\n",
        "# Load the MNIST dataset and normalize the data\n",
        "transform = transforms.Compose(\n",
        "    [transforms.ToTensor(),\n",
        "     transforms.Normalize((0.5,), (0.5,))])\n",
        "\n",
        "trainset = torchvision.datasets.MNIST(root='./data', train=True,\n",
        "                                        download=True, transform=transform)\n",
        "trainloader = torch.utils.data.DataLoader(trainset, batch_size=256,\n",
        "                                          shuffle=True, num_workers=2)\n",
        "\n",
        "testset = torchvision.datasets.MNIST(root='./data', train=False,\n",
        "                                       download=True, transform=transform)\n",
        "testloader = torch.utils.data.DataLoader(testset, batch_size=256,\n",
        "                                         shuffle=False, num_workers=2)\n",
        "\n",
        "# Define the autoencoder model and optimizer\n",
        "device = torch.device(\"mps\" if torch.backends.mps.is_available() else \"cpu\") # Use GPU if available, otherwise use CPU\n",
        "autoencoder = Autoencoder().to(device)\n",
        "optimizer = optim.Adam(autoencoder.parameters(), lr=0.001)\n",
        "\n",
        "# Train the autoencoder\n",
        "num_epochs = 50\n",
        "criterion = nn.BCELoss()  # Binary cross-entropy loss\n",
        "for epoch in range(num_epochs):\n",
        "    for i, (inputs, _) in enumerate(trainloader, 0):\n",
        "        inputs = inputs.to(device).view(-1, 784)\n",
        "        optimizer.zero_grad()\n",
        "        outputs = autoencoder(inputs)\n",
        "        loss = criterion(outputs, inputs)\n",
        "        loss.backward()\n",
        "        optimizer.step()\n",
        "\n",
        "# Evaluate the autoencoder on the test data\n",
        "\n",
        "\n"
      ]
    },
    {
      "cell_type": "code",
      "execution_count": null,
      "id": "c352a27d-e5c6-4b2d-b899-0b8afe589eb6",
      "metadata": {
        "colab": {
          "base_uri": "https://localhost:8080/"
        },
        "id": "c352a27d-e5c6-4b2d-b899-0b8afe589eb6",
        "outputId": "df3ca6ed-5c8b-4105-8691-c58e2e8354d3"
      },
      "outputs": [
        {
          "output_type": "stream",
          "name": "stdout",
          "text": [
            "Indices of anomalies in the test data:  [   2   24   29   31   40   57   59   96  143  145  154  175  176  178\n",
            "  180  189  191  195  202  203  204  224  227  228  239  251  272  279\n",
            "  302  330  332  341  357  377  378  383  385  388  419  427  443  473\n",
            "  480  483  489  499  504  506  523  542  543  649  667  675  682  689\n",
            "  695  696  716  725  735  749  754  755  767  772  783  809  824  835\n",
            "  842  848  883  889  900  907  918  920  929  931  948  949  959  963\n",
            "  964  984  988 1027 1030 1037 1038 1039 1040 1054 1075 1083 1097 1122\n",
            " 1137 1179 1189 1216 1224 1236 1242 1254 1257 1260 1274 1280 1295 1329\n",
            " 1338 1355 1358 1360 1368 1392 1397 1412 1465 1483 1484 1500 1528 1548\n",
            " 1555 1593 1596 1630 1657 1659 1660 1701 1703 1704 1707 1709 1715 1716\n",
            " 1728 1736 1753 1773 1780 1791 1829 1830 1835 1836 1862 1868 1897 1901\n",
            " 1922 1934 1940 1986 2010 2013 2027 2034 2041 2051 2059 2063 2071 2135\n",
            " 2137 2164 2171 2175 2206 2228 2239 2245 2273 2276 2277 2283 2315 2325\n",
            " 2357 2359 2409 2411 2416 2418 2421 2426 2444 2504 2508 2510 2519 2523\n",
            " 2524 2532 2576 2655 2661 2674 2676 2689 2704 2706 2710 2722 2732 2743\n",
            " 2772 2786 2788 2816 2823 2827 2867 2885 2912 2919 2930 2943 2965 2969\n",
            " 2982 2984 3014 3019 3026 3027 3039 3060 3070 3078 3103 3109 3148 3151\n",
            " 3152 3167 3189 3196 3203 3213 3214 3225 3227 3237 3244 3253 3255 3268\n",
            " 3276 3281 3302 3320 3335 3339 3351 3365 3380 3386 3418 3419 3420 3421\n",
            " 3430 3434 3438 3454 3503 3532 3552 3562 3571 3582 3599 3606 3609 3625\n",
            " 3639 3641 3652 3653 3673 3679 3689 3699 3718 3725 3739 3745 3747 3751\n",
            " 3761 3777 3779 3809 3843 3851 3852 3858 3894 3937 3967 3974 3976 3983\n",
            " 3990 4005 4006 4010 4021 4029 4039 4050 4053 4057 4074 4077 4110 4147\n",
            " 4170 4178 4179 4185 4187 4190 4191 4199 4201 4216 4224 4232 4249 4264\n",
            " 4273 4292 4303 4304 4308 4316 4318 4323 4331 4337 4344 4409 4428 4443\n",
            " 4450 4483 4491 4500 4533 4563 4568 4577 4589 4597 4606 4624 4630 4646\n",
            " 4651 4653 4655 4665 4676 4685 4687 4699 4717 4719 4722 4733 4759 4764\n",
            " 4774 4778 4806 4816 4847 4858 4859 4864 4871 4872 4876 4878 4893 4909\n",
            " 4917 4927 4929 4930 4932 4949 4951 4966 4972 4977 4984 5193 5203 5211\n",
            " 5608 5676 5732 5873 5880 5896 5902 5915 5917 5953 5970 5998 6005 6338\n",
            " 6408 6533 6540 6556 6561 6564 6569 6570 6571 6572 6576 6605 6611 6618\n",
            " 6622 6623 6628 6632 6634 6644 6809 6891 6901 6902 6913 6926 7000 7005\n",
            " 7087 7176 7183 7191 7195 7217 7223 7226 7228 7232 7247 7280 7451 7453\n",
            " 7454 7636 7658 7711 7717 8165 8390 8408 8444 8604 8650 9035 9265 9282\n",
            " 9291 9295 9301 9313 9324 9335 9336 9345 9350 9356 9395 9407 9444 9446\n",
            " 9549 9641 9643 9700 9725 9760 9795 9844 9852 9907]\n"
          ]
        }
      ],
      "source": [
        "reconstruction_errors = []\n",
        "with torch.no_grad():\n",
        "    for i, (inputs, _) in enumerate(testloader, 0):\n",
        "        inputs = inputs.to(device).view(-1, 784)\n",
        "        outputs = autoencoder(inputs)\n",
        "        reconstruction_error = torch.mean((outputs - inputs) ** 2, dim=1)\n",
        "        reconstruction_errors.extend(reconstruction_error.cpu().numpy().tolist())\n",
        "\n",
        "reconstruction_errors = np.array(reconstruction_errors)\n",
        "threshold = np.percentile(reconstruction_errors, 95) # Set threshold at the 95th percentile of reconstruction error\n",
        "anomaly_indices = np.where(reconstruction_errors > threshold)[0]\n",
        "\n",
        "# Print the indices of anomalies\n",
        "print(\"Indices of anomalies in the test data: \", anomaly_indices)"
      ]
    },
    {
      "cell_type": "code",
      "execution_count": null,
      "id": "87024931-b605-49e0-afde-bcefdcb42f2c",
      "metadata": {
        "colab": {
          "base_uri": "https://localhost:8080/",
          "height": 1000
        },
        "id": "87024931-b605-49e0-afde-bcefdcb42f2c",
        "outputId": "69e1a44c-8bba-468c-9225-934995378fdc"
      },
      "outputs": [
        {
          "output_type": "display_data",
          "data": {
            "text/plain": [
              "<Figure size 640x480 with 1 Axes>"
            ],
            "image/png": "[encoded data removed]"
          },
          "metadata": {}
        },
        {
          "output_type": "display_data",
          "data": {
            "text/plain": [
              "<Figure size 640x480 with 1 Axes>"
            ],
            "image/png": "[encoded data removed]"
          },
          "metadata": {}
        },
        {
          "output_type": "display_data",
          "data": {
            "text/plain": [
              "<Figure size 640x480 with 1 Axes>"
            ],
            "image/png": "[encoded data removed]"
          },
          "metadata": {}
        },
        {
          "output_type": "display_data",
          "data": {
            "text/plain": [
              "<Figure size 640x480 with 1 Axes>"
            ],
            "image/png": "[encoded data removed]"
          },
          "metadata": {}
        },
        {
          "output_type": "display_data",
          "data": {
            "text/plain": [
              "<Figure size 640x480 with 1 Axes>"
            ],
            "image/png": "[encoded data removed]"
          },
          "metadata": {}
        },
        {
          "output_type": "display_data",
          "data": {
            "text/plain": [
              "<Figure size 640x480 with 1 Axes>"
            ],
            "image/png": "[encoded data removed]"
          },
          "metadata": {}
        },
        {
          "output_type": "display_data",
          "data": {
            "text/plain": [
              "<Figure size 640x480 with 1 Axes>"
            ],
            "image/png": "[encoded data removed]"
          },
          "metadata": {}
        },
        {
          "output_type": "display_data",
          "data": {
            "text/plain": [
              "<Figure size 640x480 with 1 Axes>"
            ],
            "image/png": "[encoded data removed]"
          },
          "metadata": {}
        }
      ],
      "source": [
        "import matplotlib.pyplot as plt\n",
        "with torch.no_grad():\n",
        "    for i, (inputs, labels) in enumerate(testloader, 0):\n",
        "        inputimgs = [inputs[i] for i in [0,1]]\n",
        "        for img in inputimgs:\n",
        "            plt.imshow(img[0], cmap=\"gray_r\")\n",
        "            plt.show()\n",
        "            inputimg = img[0].to(device).view(-1, 784)\n",
        "            outputs = autoencoder(inputimg)\n",
        "            plt.imshow(outputs.to(\"cpu\").view(28, 28), cmap=\"gray_r\")\n",
        "            plt.show()\n",
        "        inputimgs = [inputs[i] for i in [40, 57]]\n",
        "        for img in inputimgs:\n",
        "            plt.imshow(img[0], cmap=\"gray_r\")\n",
        "            plt.show()\n",
        "            inputimg = img[0].to(device).view(-1, 784)\n",
        "            outputs = autoencoder(inputimg)\n",
        "            plt.imshow(outputs.to(\"cpu\").view(28, 28), cmap=\"gray_r\")\n",
        "            plt.show()\n",
        "        break\n"
      ]
    },
    {
      "cell_type": "code",
      "execution_count": null,
      "id": "d99ff746-02e9-4093-9877-91e678d87726",
      "metadata": {
        "id": "d99ff746-02e9-4093-9877-91e678d87726"
      },
      "outputs": [],
      "source": []
    }
  ],
  "metadata": {
    "kernelspec": {
      "display_name": "Python 3 (ipykernel)",
      "language": "python",
      "name": "python3"
    },
    "language_info": {
      "codemirror_mode": {
        "name": "ipython",
        "version": 3
      },
      "file_extension": ".py",
      "mimetype": "text/x-python",
      "name": "python",
      "nbconvert_exporter": "python",
      "pygments_lexer": "ipython3",
      "version": "3.10.9"
    },
    "colab": {
      "provenance": [],
      "include_colab_link": true
    }
  },
  "nbformat": 4,
  "nbformat_minor": 5
}