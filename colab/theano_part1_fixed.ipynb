{
  "nbformat": 4,
  "nbformat_minor": 0,
  "metadata": {
    "colab": {
      "provenance": [],
      "authorship_tag": "ABX9TyNtrHd53mBY9m0pz/WIkgxv",
      "include_colab_link": true
    },
    "kernelspec": {
      "name": "python3",
      "display_name": "Python 3"
    },
    "language_info": {
      "name": "python"
    }
  },
  "cells": [
    {
      "cell_type": "markdown",
      "metadata": {
        "id": "view-in-github",
        "colab_type": "text"
      },
      "source": [
        "<a href=\"https://colab.research.google.com/github/kartoone/nn3/blob/main/colab/theano_part1_fixed.ipynb\" target=\"_parent\"><img src=\"https://colab.research.google.com/assets/colab-badge.svg\" alt=\"Open In Colab\"/></a>"
      ]
    },
    {
      "cell_type": "code",
      "execution_count": 1,
      "metadata": {
        "colab": {
          "base_uri": "https://localhost:8080/"
        },
        "id": "4ic9ORAnKDtV",
        "outputId": "8cb0fbaa-15f2-4a5d-c882-4f2bb532ee47"
      },
      "outputs": [
        {
          "output_type": "stream",
          "name": "stdout",
          "text": [
            "/content/nn3/src\n"
          ]
        }
      ],
      "source": [
        "#!git clone \"https://github.com/kartoone/nn3\"\n",
        "#!cat nn3/keras.json > ~/.keras/keras.json\n",
        "#!pip install theano\n",
        "%cd nn3/src"
      ]
    },
    {
      "cell_type": "code",
      "source": [
        "import time\n",
        "import network3\n",
        "from network3 import Network\n",
        "from network3 import ConvPoolLayer, FullyConnectedLayer, SoftmaxLayer\n",
        "training_data, validation_data, test_data = network3.load_data_shared()\n",
        "mini_batch_size = 10\n",
        "\n",
        "start = time.time()\n",
        "net = Network([\n",
        "        ConvPoolLayer(image_shape=(mini_batch_size, 1, 28, 28), \n",
        "                      filter_shape=(20, 1, 5, 5), \n",
        "                      poolsize=(2, 2)),\n",
        "        FullyConnectedLayer(n_in=20*12*12, n_out=100),\n",
        "        SoftmaxLayer(n_in=100, n_out=10)], mini_batch_size)\n",
        "net.SGD(training_data, 60, mini_batch_size, 0.1, \n",
        "            validation_data, test_data)   \n",
        "finish = time.time()\n",
        "elapsed = finish-start\n",
        "print(elapsed)"
      ],
      "metadata": {
        "id": "co6yvKlYK1w_"
      },
      "execution_count": null,
      "outputs": []
    },
    {
      "cell_type": "code",
      "source": [
        "!python expand_mnist.py"
      ],
      "metadata": {
        "colab": {
          "base_uri": "https://localhost:8080/"
        },
        "id": "irPwLqoFMAR9",
        "outputId": "c2f9c240-2c7c-4568-e84d-e0cb324bc331"
      },
      "execution_count": 3,
      "outputs": [
        {
          "output_type": "stream",
          "name": "stdout",
          "text": [
            "Expanding the MNIST training set\n",
            "Expanding image number 1000\n",
            "Expanding image number 2000\n",
            "Expanding image number 3000\n",
            "Expanding image number 4000\n",
            "Expanding image number 5000\n",
            "Expanding image number 6000\n",
            "Expanding image number 7000\n",
            "Expanding image number 8000\n",
            "Expanding image number 9000\n",
            "Expanding image number 10000\n",
            "Expanding image number 11000\n",
            "Expanding image number 12000\n",
            "Expanding image number 13000\n",
            "Expanding image number 14000\n",
            "Expanding image number 15000\n",
            "Expanding image number 16000\n",
            "Expanding image number 17000\n",
            "Expanding image number 18000\n",
            "Expanding image number 19000\n",
            "Expanding image number 20000\n",
            "Expanding image number 21000\n",
            "Expanding image number 22000\n",
            "Expanding image number 23000\n",
            "Expanding image number 24000\n",
            "Expanding image number 25000\n",
            "Expanding image number 26000\n",
            "Expanding image number 27000\n",
            "Expanding image number 28000\n",
            "Expanding image number 29000\n",
            "Expanding image number 30000\n",
            "Expanding image number 31000\n",
            "Expanding image number 32000\n",
            "Expanding image number 33000\n",
            "Expanding image number 34000\n",
            "Expanding image number 35000\n",
            "Expanding image number 36000\n",
            "Expanding image number 37000\n",
            "Expanding image number 38000\n",
            "Expanding image number 39000\n",
            "Expanding image number 40000\n",
            "Expanding image number 41000\n",
            "Expanding image number 42000\n",
            "Expanding image number 43000\n",
            "Expanding image number 44000\n",
            "Expanding image number 45000\n",
            "Expanding image number 46000\n",
            "Expanding image number 47000\n",
            "Expanding image number 48000\n",
            "Expanding image number 49000\n",
            "Expanding image number 50000\n",
            "Saving expanded data. This may take a few minutes.\n"
          ]
        }
      ]
    },
    {
      "cell_type": "code",
      "source": [
        "import time\n",
        "import network3\n",
        "from network3 import Network\n",
        "from network3 import ConvPoolLayer, FullyConnectedLayer, SoftmaxLayer\n",
        "from network3 import ReLU\n",
        "training_data, validation_data, test_data = network3.load_data_shared()\n",
        "mini_batch_size = 10\n",
        "\n",
        "start = time.time()\n",
        "expanded_training_data, _, _ = network3.load_data_shared(\"../data/mnist_expanded.pkl.gz\")\n",
        "net = Network([\n",
        "        ConvPoolLayer(image_shape=(mini_batch_size, 1, 28, 28), \n",
        "                      filter_shape=(20, 1, 5, 5), \n",
        "                      poolsize=(2, 2), \n",
        "                      activation_fn=ReLU),\n",
        "        ConvPoolLayer(image_shape=(mini_batch_size, 20, 12, 12), \n",
        "                      filter_shape=(40, 20, 5, 5), \n",
        "                      poolsize=(2, 2), \n",
        "                      activation_fn=ReLU),\n",
        "        FullyConnectedLayer(n_in=40*4*4, n_out=100, activation_fn=ReLU),\n",
        "        SoftmaxLayer(n_in=100, n_out=10)], mini_batch_size)\n",
        "net.SGD(expanded_training_data, 60, mini_batch_size, 0.03, \n",
        "            validation_data, test_data, lmbda=0.1)\n",
        "finish = time.time()\n",
        "elapsed = finish-start\n",
        "print(elapsed)"
      ],
      "metadata": {
        "colab": {
          "base_uri": "https://localhost:8080/"
        },
        "id": "VD0PY5UxMOSn",
        "outputId": "a81f59bc-2445-4b84-d747-8657e3753268"
      },
      "execution_count": null,
      "outputs": [
        {
          "output_type": "stream",
          "name": "stderr",
          "text": [
            "/usr/local/lib/python3.8/dist-packages/theano/tensor/nnet/conv.py:98: UserWarning: theano.tensor.nnet.conv.conv2d is deprecated. Use theano.tensor.nnet.conv2d instead.\n",
            "  warnings.warn(\"theano.tensor.nnet.conv.conv2d is deprecated.\"\n",
            "/content/nn3/src/network3.py:237: UserWarning: DEPRECATION: the 'ds' parameter is not going to exist anymore as it is going to be replaced by the parameter 'ws'.\n",
            "  pooled_out = pool_2d(\n",
            "INFO:theano.gof.compilelock:Refreshing lock /root/.theano/compiledir_Linux-5.10.147+-x86_64-with-glibc2.29-x86_64-3.8.10-64/lock_dir/lock\n"
          ]
        },
        {
          "output_type": "stream",
          "name": "stdout",
          "text": [
            "Training mini-batch number 0\n",
            "Training mini-batch number 1000\n",
            "Training mini-batch number 2000\n",
            "Training mini-batch number 3000\n",
            "Training mini-batch number 4000\n",
            "Training mini-batch number 5000\n",
            "Training mini-batch number 6000\n",
            "Training mini-batch number 7000\n",
            "Training mini-batch number 8000\n",
            "Training mini-batch number 9000\n",
            "Training mini-batch number 10000\n",
            "Training mini-batch number 11000\n",
            "Training mini-batch number 12000\n",
            "Training mini-batch number 13000\n",
            "Training mini-batch number 14000\n",
            "Training mini-batch number 15000\n",
            "Training mini-batch number 16000\n",
            "Training mini-batch number 17000\n",
            "Training mini-batch number 18000\n",
            "Training mini-batch number 19000\n",
            "Training mini-batch number 20000\n",
            "Training mini-batch number 21000\n",
            "Training mini-batch number 22000\n"
          ]
        }
      ]
    }
  ]
}